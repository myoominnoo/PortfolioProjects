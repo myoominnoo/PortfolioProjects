{
 "cells": [
  {
   "cell_type": "code",
   "execution_count": 1,
   "id": "7a287237-aa70-4417-90cf-701938d09648",
   "metadata": {},
   "outputs": [],
   "source": [
    "# import libraries\n",
    "from bs4 import BeautifulSoup\n",
    "import requests\n",
    "import time\n",
    "import datetime\n",
    "\n",
    "import smtplib"
   ]
  },
  {
   "cell_type": "code",
   "execution_count": 2,
   "id": "17f724d2-6152-43bd-ad12-8377a68f3280",
   "metadata": {},
   "outputs": [
    {
     "name": "stdout",
     "output_type": "stream",
     "text": [
      "Kids Digital Watch M4013\n"
     ]
    }
   ],
   "source": [
    "# Connect to Website and pull in data\n",
    "\n",
    "URL = 'https://migoo.com.mm/products/kids-digital-watch-m4013?VariantsId=17930'\n",
    "headers = {\"User-Agent\": \"Mozilla/5.0 (Windows NT 10.0; Win64; x64) AppleWebKit/537.36 (KHTML, like Gecko) Chrome/78.0.3904.108 Safari/537.36\", \"Accept-Encoding\":\"gzip, deflate\", \"Accept\":\"text/html,application/xhtml+xml,application/xml;q=0.9,*/*;q=0.8\", \"DNT\":\"1\",\"Connection\":\"close\", \"Upgrade-Insecure-Requests\":\"1\"}\n",
    "\n",
    "page = requests.get(URL, headers=headers)\n",
    "html_code = '<h1 itemprop=\"name\" class=\"detail_name themes_products_title\">Kids Digital Watch M4013</h1>'\n",
    "\n",
    "# Parse the HTML code\n",
    "soup = BeautifulSoup(html_code, 'html.parser')\n",
    "# Find the h1 element with the specified class\n",
    "title_element = soup.find('h1', class_='detail_name themes_products_title')\n",
    "\n",
    "# Extract the title\n",
    "title = title_element.get_text(strip=True)\n",
    "print(title)"
   ]
  },
  {
   "cell_type": "code",
   "execution_count": 4,
   "id": "0828d84e-34d8-4954-a07e-86c12ff606ee",
   "metadata": {},
   "outputs": [
    {
     "name": "stdout",
     "output_type": "stream",
     "text": [
      "\n",
      "         K12,000.00\n",
      "        \n"
     ]
    }
   ],
   "source": [
    "soup1 = BeautifulSoup(page.content, \"html.parser\")\n",
    "soup2 = BeautifulSoup(soup1.prettify(), \"html.parser\")\n",
    "\n",
    "price = soup2.find(id='cur_price').get_text()\n",
    "print(price)"
   ]
  },
  {
   "cell_type": "code",
   "execution_count": 5,
   "id": "0162189e-e25a-4fe6-bee3-03d0d5eaf86e",
   "metadata": {},
   "outputs": [
    {
     "name": "stdout",
     "output_type": "stream",
     "text": [
      "12,000.00\n",
      "Kids Digital Watch M4013\n"
     ]
    }
   ],
   "source": [
    "# clean up the data a little bit\n",
    "price = price.strip()[1:]\n",
    "title = title.strip()\n",
    "\n",
    "print(price)\n",
    "print(title)"
   ]
  },
  {
   "cell_type": "code",
   "execution_count": 6,
   "id": "099b3531-f6ec-4cda-abca-914466ddebb3",
   "metadata": {},
   "outputs": [
    {
     "name": "stdout",
     "output_type": "stream",
     "text": [
      "2023-10-20\n"
     ]
    }
   ],
   "source": [
    "# create a Timestamp for your output to track when data was collected\n",
    "today = datetime.date.today()\n",
    "print(today)"
   ]
  },
  {
   "cell_type": "code",
   "execution_count": 7,
   "id": "e8a3ef96-c566-494a-b888-3e458e8b756e",
   "metadata": {},
   "outputs": [],
   "source": [
    "# create CSV and write headers and data into the file\n",
    "import csv\n",
    "\n",
    "header = ['Title', 'Price', 'Date']\n",
    "data = [title, price, today]\n",
    "\n",
    "with open('WebScrapDataset.csv', 'w', newline='', encoding='UTF8') as f:\n",
    "    writer = csv.writer(f)\n",
    "    writer.writerow(header)\n",
    "    writer.writerow(data)"
   ]
  },
  {
   "cell_type": "code",
   "execution_count": 8,
   "id": "fb940c92-da6f-4c15-bbf4-5c31330d9164",
   "metadata": {},
   "outputs": [
    {
     "name": "stdout",
     "output_type": "stream",
     "text": [
      "                      Title      Price        Date\n",
      "0  Kids Digital Watch M4013  12,000.00  2023-10-20\n"
     ]
    }
   ],
   "source": [
    "import pandas as pd\n",
    "df = pd.read_csv(r'WebScrapDataset.csv')\n",
    "print(df)"
   ]
  },
  {
   "cell_type": "code",
   "execution_count": 9,
   "id": "f992fe58-f57d-4381-8480-a041e4c9b1c9",
   "metadata": {},
   "outputs": [],
   "source": [
    "# appending data to csv\n",
    "with open('WebScrapDataset.csv', 'a+', newline='', encoding='UTF8') as f:\n",
    "    writer = csv.writer(f)\n",
    "    writer.writerow(data)"
   ]
  },
  {
   "cell_type": "code",
   "execution_count": 10,
   "id": "125f44c4-a1c6-48c8-9d60-c4cd7f524387",
   "metadata": {},
   "outputs": [],
   "source": [
    "# combine all of the code into one function\n",
    "def check_price():\n",
    "    URL = 'https://migoo.com.mm/products/kids-digital-watch-m4013?VariantsId=17930'\n",
    "    headers = {\"User-Agent\": \"Mozilla/5.0 (Windows NT 10.0; Win64; x64) AppleWebKit/537.36 (KHTML, like Gecko) Chrome/78.0.3904.108 Safari/537.36\", \"Accept-Encoding\":\"gzip, deflate\", \"Accept\":\"text/html,application/xhtml+xml,application/xml;q=0.9,*/*;q=0.8\", \"DNT\":\"1\",\"Connection\":\"close\", \"Upgrade-Insecure-Requests\":\"1\"}\n",
    "\n",
    "    page = requests.get(URL, headers=headers)\n",
    "    html_code = '<h1 itemprop=\"name\" class=\"detail_name themes_products_title\">Kids Digital Watch M4013</h1>'\n",
    "\n",
    "    soup = BeautifulSoup(html_code, 'html.parser')\n",
    "    title_element = soup.find('h1', class_='detail_name themes_products_title')\n",
    "\n",
    "    title = title_element.get_text(strip=True)\n",
    "    \n",
    "    soup1 = BeautifulSoup(page.content, \"html.parser\")\n",
    "    soup2 = BeautifulSoup(soup1.prettify(), \"html.parser\")\n",
    "\n",
    "    price = soup2.find(id='cur_price').get_text()\n",
    "    \n",
    "    price = price.strip()[1:]\n",
    "    title = title.strip()\n",
    "\n",
    "    today = datetime.date.today()\n",
    "    header = ['Title', 'Price', 'Date']\n",
    "    data = [title, price, today]\n",
    "\n",
    "    with open('WebScrapDataset.csv', 'w', newline='', encoding='UTF8') as f:\n",
    "        writer = csv.writer(f)\n",
    "        writer.writerow(header)\n",
    "        writer.writerow(data)"
   ]
  },
  {
   "cell_type": "code",
   "execution_count": null,
   "id": "8848c1bb-ca04-4b95-93cc-a4531742c5b6",
   "metadata": {},
   "outputs": [],
   "source": [
    "# runs check_price function after a set time and inputs data into CSV\n",
    "while(True):\n",
    "    check_price()\n",
    "    time.sleep(86400)"
   ]
  },
  {
   "cell_type": "code",
   "execution_count": 11,
   "id": "f2d88fc9-153a-420a-a82b-684e8b9f1271",
   "metadata": {},
   "outputs": [
    {
     "name": "stdout",
     "output_type": "stream",
     "text": [
      "                      Title      Price        Date\n",
      "0  Kids Digital Watch M4013  12,000.00  2023-10-20\n"
     ]
    }
   ],
   "source": [
    "print(df)"
   ]
  },
  {
   "cell_type": "code",
   "execution_count": 16,
   "id": "13e4bf81-4ded-4379-a117-a516d802e0de",
   "metadata": {},
   "outputs": [],
   "source": [
    "# if you want to try sending yourself an email (just for fun) when a price hits below a certain level you can try it\n",
    "# out with this script\n",
    "\n",
    "def send_mail():\n",
    "    server = smtplib.SMTP_SSL('smtp.gmail.com', 465)\n",
    "    server.ehlo()\n",
    "    \n",
    "    #server.starttls()\n",
    "    server.login('myominnoocontact@gmail.com', 'xxxxxxxxxx')\n",
    "    \n",
    "    subject = 'The Watch you want is below K10,000! Now is your chance to buy!'\n",
    "    body = \"Minn, This is the moment we have been waiting for. Now is your chance to pick up the shirt of your dreams. Don't mess it up! Link here: https://migoo.com.mm/products/kids-digital-watch-m4013?VariantsId=17930\"\n",
    "    \n",
    "    msg = f\"Subject: {subject}\\n\\n{body}\"\n",
    "    \n",
    "    server.sendmail(\n",
    "        'myominnoocontact@gmail.com',\n",
    "        msg\n",
    "    )\n",
    "    \n",
    "   "
   ]
  },
  {
   "cell_type": "code",
   "execution_count": null,
   "id": "2755de07-5faf-436d-9162-d6bfa17acfa3",
   "metadata": {},
   "outputs": [],
   "source": []
  }
 ],
 "metadata": {
  "kernelspec": {
   "display_name": "Python 3 (ipykernel)",
   "language": "python",
   "name": "python3"
  },
  "language_info": {
   "codemirror_mode": {
    "name": "ipython",
    "version": 3
   },
   "file_extension": ".py",
   "mimetype": "text/x-python",
   "name": "python",
   "nbconvert_exporter": "python",
   "pygments_lexer": "ipython3",
   "version": "3.9.10"
  }
 },
 "nbformat": 4,
 "nbformat_minor": 5
}
